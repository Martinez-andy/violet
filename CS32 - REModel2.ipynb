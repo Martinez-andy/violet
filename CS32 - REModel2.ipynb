{
 "cells": [
  {
   "cell_type": "code",
   "execution_count": 1,
   "metadata": {},
   "outputs": [],
   "source": [
    "# Imports needed for the project\n",
    "import numpy as np\n",
    "import pandas as pd\n",
    "from sklearn.neighbors import KNeighborsRegressor\n",
    "from sklearn.preprocessing import PolynomialFeatures\n",
    "from sklearn.linear_model import LinearRegression\n",
    "from sklearn.preprocessing import StandardScaler\n",
    "import matplotlib.pyplot as plt \n",
    "from sklearn.pipeline import make_pipeline\n",
    "from sklearn.metrics import mean_squared_error\n",
    "from sklearn.model_selection import train_test_split\n",
    "from sklearn.model_selection import cross_val_score\n",
    "import pickle"
   ]
  },
  {
   "cell_type": "code",
   "execution_count": 2,
   "metadata": {},
   "outputs": [
    {
     "data": {
      "text/plain": [
       "' \\n# Start by dropping the status and previously sold columns\\ndf = pd.read_csv(\"data/realtor-data.csv\")\\n\\n# Drop the unwanted columns\\ndf.drop(columns=[\"status\", \"prev_sold_date\"], axis=1, inplace=True)\\n\\n# Overwrite csv data\\ndf.to_csv(\\'data/realtor-data.csv\\', index=False)\\n'"
      ]
     },
     "execution_count": 2,
     "metadata": {},
     "output_type": "execute_result"
    }
   ],
   "source": [
    "# ALREADY DONE.\n",
    "\"\"\" \n",
    "# Start by dropping the status and previously sold columns\n",
    "df = pd.read_csv(\"data/realtor-data.csv\")\n",
    "\n",
    "# Drop the unwanted columns\n",
    "df.drop(columns=[\"status\", \"prev_sold_date\"], axis=1, inplace=True)\n",
    "\n",
    "# Overwrite csv data\n",
    "df.to_csv('data/realtor-data.csv', index=False)\n",
    "\"\"\""
   ]
  },
  {
   "cell_type": "code",
   "execution_count": 3,
   "metadata": {},
   "outputs": [],
   "source": [
    "# Read the data\n",
    "df = pd.read_csv(\"data/realtor-data.csv\")"
   ]
  },
  {
   "cell_type": "code",
   "execution_count": 4,
   "metadata": {},
   "outputs": [
    {
     "name": "stdout",
     "output_type": "stream",
     "text": [
      "bed           216528\n",
      "bath          194213\n",
      "acre_lot      357467\n",
      "city             191\n",
      "state              0\n",
      "zip_code         479\n",
      "house_size    450112\n",
      "price            108\n",
      "dtype: int64\n"
     ]
    }
   ],
   "source": [
    "# See how many unknowns\n",
    "missing_values_count = df.isna().sum()\n",
    "\n",
    "# Print the count of missing values for each column\n",
    "print(missing_values_count)"
   ]
  },
  {
   "cell_type": "code",
   "execution_count": 5,
   "metadata": {},
   "outputs": [],
   "source": [
    "# Drop any NA data. This is fine for a personal project\n",
    "df.dropna(inplace=True)"
   ]
  },
  {
   "cell_type": "code",
   "execution_count": 6,
   "metadata": {},
   "outputs": [],
   "source": [
    "# Set X and Y\n",
    "X = df.drop(columns=[\"price\", \"city\", \"zip_code\"], axis=1)\n",
    "y = df[\"price\"]"
   ]
  },
  {
   "cell_type": "code",
   "execution_count": 7,
   "metadata": {},
   "outputs": [
    {
     "data": {
      "text/html": [
       "<div>\n",
       "<style scoped>\n",
       "    .dataframe tbody tr th:only-of-type {\n",
       "        vertical-align: middle;\n",
       "    }\n",
       "\n",
       "    .dataframe tbody tr th {\n",
       "        vertical-align: top;\n",
       "    }\n",
       "\n",
       "    .dataframe thead th {\n",
       "        text-align: right;\n",
       "    }\n",
       "</style>\n",
       "<table border=\"1\" class=\"dataframe\">\n",
       "  <thead>\n",
       "    <tr style=\"text-align: right;\">\n",
       "      <th></th>\n",
       "      <th>bed</th>\n",
       "      <th>bath</th>\n",
       "      <th>acre_lot</th>\n",
       "      <th>state</th>\n",
       "      <th>house_size</th>\n",
       "    </tr>\n",
       "  </thead>\n",
       "  <tbody>\n",
       "    <tr>\n",
       "      <th>0</th>\n",
       "      <td>3.0</td>\n",
       "      <td>2.0</td>\n",
       "      <td>0.12</td>\n",
       "      <td>Puerto Rico</td>\n",
       "      <td>920.0</td>\n",
       "    </tr>\n",
       "    <tr>\n",
       "      <th>1</th>\n",
       "      <td>4.0</td>\n",
       "      <td>2.0</td>\n",
       "      <td>0.08</td>\n",
       "      <td>Puerto Rico</td>\n",
       "      <td>1527.0</td>\n",
       "    </tr>\n",
       "    <tr>\n",
       "      <th>2</th>\n",
       "      <td>2.0</td>\n",
       "      <td>1.0</td>\n",
       "      <td>0.15</td>\n",
       "      <td>Puerto Rico</td>\n",
       "      <td>748.0</td>\n",
       "    </tr>\n",
       "    <tr>\n",
       "      <th>3</th>\n",
       "      <td>4.0</td>\n",
       "      <td>2.0</td>\n",
       "      <td>0.10</td>\n",
       "      <td>Puerto Rico</td>\n",
       "      <td>1800.0</td>\n",
       "    </tr>\n",
       "    <tr>\n",
       "      <th>5</th>\n",
       "      <td>4.0</td>\n",
       "      <td>3.0</td>\n",
       "      <td>0.46</td>\n",
       "      <td>Puerto Rico</td>\n",
       "      <td>2520.0</td>\n",
       "    </tr>\n",
       "    <tr>\n",
       "      <th>...</th>\n",
       "      <td>...</td>\n",
       "      <td>...</td>\n",
       "      <td>...</td>\n",
       "      <td>...</td>\n",
       "      <td>...</td>\n",
       "    </tr>\n",
       "    <tr>\n",
       "      <th>1401060</th>\n",
       "      <td>3.0</td>\n",
       "      <td>1.0</td>\n",
       "      <td>0.10</td>\n",
       "      <td>New York</td>\n",
       "      <td>1002.0</td>\n",
       "    </tr>\n",
       "    <tr>\n",
       "      <th>1401062</th>\n",
       "      <td>4.0</td>\n",
       "      <td>2.0</td>\n",
       "      <td>0.36</td>\n",
       "      <td>New York</td>\n",
       "      <td>2026.0</td>\n",
       "    </tr>\n",
       "    <tr>\n",
       "      <th>1401063</th>\n",
       "      <td>10.0</td>\n",
       "      <td>4.0</td>\n",
       "      <td>0.43</td>\n",
       "      <td>New York</td>\n",
       "      <td>4802.0</td>\n",
       "    </tr>\n",
       "    <tr>\n",
       "      <th>1401064</th>\n",
       "      <td>2.0</td>\n",
       "      <td>2.0</td>\n",
       "      <td>0.14</td>\n",
       "      <td>New York</td>\n",
       "      <td>1568.0</td>\n",
       "    </tr>\n",
       "    <tr>\n",
       "      <th>1401065</th>\n",
       "      <td>5.0</td>\n",
       "      <td>2.0</td>\n",
       "      <td>0.14</td>\n",
       "      <td>New York</td>\n",
       "      <td>1908.0</td>\n",
       "    </tr>\n",
       "  </tbody>\n",
       "</table>\n",
       "<p>680464 rows × 5 columns</p>\n",
       "</div>"
      ],
      "text/plain": [
       "          bed  bath  acre_lot        state  house_size\n",
       "0         3.0   2.0      0.12  Puerto Rico       920.0\n",
       "1         4.0   2.0      0.08  Puerto Rico      1527.0\n",
       "2         2.0   1.0      0.15  Puerto Rico       748.0\n",
       "3         4.0   2.0      0.10  Puerto Rico      1800.0\n",
       "5         4.0   3.0      0.46  Puerto Rico      2520.0\n",
       "...       ...   ...       ...          ...         ...\n",
       "1401060   3.0   1.0      0.10     New York      1002.0\n",
       "1401062   4.0   2.0      0.36     New York      2026.0\n",
       "1401063  10.0   4.0      0.43     New York      4802.0\n",
       "1401064   2.0   2.0      0.14     New York      1568.0\n",
       "1401065   5.0   2.0      0.14     New York      1908.0\n",
       "\n",
       "[680464 rows x 5 columns]"
      ]
     },
     "execution_count": 7,
     "metadata": {},
     "output_type": "execute_result"
    }
   ],
   "source": [
    "X"
   ]
  },
  {
   "cell_type": "markdown",
   "metadata": {},
   "source": [
    "# Instead of one-hot encoding convert states into median housing values in said state"
   ]
  },
  {
   "cell_type": "code",
   "execution_count": 8,
   "metadata": {},
   "outputs": [
    {
     "data": {
      "text/html": [
       "<div>\n",
       "<style scoped>\n",
       "    .dataframe tbody tr th:only-of-type {\n",
       "        vertical-align: middle;\n",
       "    }\n",
       "\n",
       "    .dataframe tbody tr th {\n",
       "        vertical-align: top;\n",
       "    }\n",
       "\n",
       "    .dataframe thead th {\n",
       "        text-align: right;\n",
       "    }\n",
       "</style>\n",
       "<table border=\"1\" class=\"dataframe\">\n",
       "  <thead>\n",
       "    <tr style=\"text-align: right;\">\n",
       "      <th></th>\n",
       "      <th>bed</th>\n",
       "      <th>bath</th>\n",
       "      <th>acre_lot</th>\n",
       "      <th>house_size</th>\n",
       "      <th>median_value</th>\n",
       "    </tr>\n",
       "  </thead>\n",
       "  <tbody>\n",
       "    <tr>\n",
       "      <th>0</th>\n",
       "      <td>3.0</td>\n",
       "      <td>2.0</td>\n",
       "      <td>0.12</td>\n",
       "      <td>920.0</td>\n",
       "      <td>388527</td>\n",
       "    </tr>\n",
       "    <tr>\n",
       "      <th>1</th>\n",
       "      <td>4.0</td>\n",
       "      <td>2.0</td>\n",
       "      <td>0.08</td>\n",
       "      <td>1527.0</td>\n",
       "      <td>388527</td>\n",
       "    </tr>\n",
       "    <tr>\n",
       "      <th>2</th>\n",
       "      <td>2.0</td>\n",
       "      <td>1.0</td>\n",
       "      <td>0.15</td>\n",
       "      <td>748.0</td>\n",
       "      <td>388527</td>\n",
       "    </tr>\n",
       "    <tr>\n",
       "      <th>3</th>\n",
       "      <td>4.0</td>\n",
       "      <td>2.0</td>\n",
       "      <td>0.10</td>\n",
       "      <td>1800.0</td>\n",
       "      <td>388527</td>\n",
       "    </tr>\n",
       "    <tr>\n",
       "      <th>5</th>\n",
       "      <td>4.0</td>\n",
       "      <td>3.0</td>\n",
       "      <td>0.46</td>\n",
       "      <td>2520.0</td>\n",
       "      <td>388527</td>\n",
       "    </tr>\n",
       "    <tr>\n",
       "      <th>...</th>\n",
       "      <td>...</td>\n",
       "      <td>...</td>\n",
       "      <td>...</td>\n",
       "      <td>...</td>\n",
       "      <td>...</td>\n",
       "    </tr>\n",
       "    <tr>\n",
       "      <th>1401060</th>\n",
       "      <td>3.0</td>\n",
       "      <td>1.0</td>\n",
       "      <td>0.10</td>\n",
       "      <td>1002.0</td>\n",
       "      <td>649000</td>\n",
       "    </tr>\n",
       "    <tr>\n",
       "      <th>1401062</th>\n",
       "      <td>4.0</td>\n",
       "      <td>2.0</td>\n",
       "      <td>0.36</td>\n",
       "      <td>2026.0</td>\n",
       "      <td>649000</td>\n",
       "    </tr>\n",
       "    <tr>\n",
       "      <th>1401063</th>\n",
       "      <td>10.0</td>\n",
       "      <td>4.0</td>\n",
       "      <td>0.43</td>\n",
       "      <td>4802.0</td>\n",
       "      <td>649000</td>\n",
       "    </tr>\n",
       "    <tr>\n",
       "      <th>1401064</th>\n",
       "      <td>2.0</td>\n",
       "      <td>2.0</td>\n",
       "      <td>0.14</td>\n",
       "      <td>1568.0</td>\n",
       "      <td>649000</td>\n",
       "    </tr>\n",
       "    <tr>\n",
       "      <th>1401065</th>\n",
       "      <td>5.0</td>\n",
       "      <td>2.0</td>\n",
       "      <td>0.14</td>\n",
       "      <td>1908.0</td>\n",
       "      <td>649000</td>\n",
       "    </tr>\n",
       "  </tbody>\n",
       "</table>\n",
       "<p>680464 rows × 5 columns</p>\n",
       "</div>"
      ],
      "text/plain": [
       "          bed  bath  acre_lot  house_size  median_value\n",
       "0         3.0   2.0      0.12       920.0        388527\n",
       "1         4.0   2.0      0.08      1527.0        388527\n",
       "2         2.0   1.0      0.15       748.0        388527\n",
       "3         4.0   2.0      0.10      1800.0        388527\n",
       "5         4.0   3.0      0.46      2520.0        388527\n",
       "...       ...   ...       ...         ...           ...\n",
       "1401060   3.0   1.0      0.10      1002.0        649000\n",
       "1401062   4.0   2.0      0.36      2026.0        649000\n",
       "1401063  10.0   4.0      0.43      4802.0        649000\n",
       "1401064   2.0   2.0      0.14      1568.0        649000\n",
       "1401065   5.0   2.0      0.14      1908.0        649000\n",
       "\n",
       "[680464 rows x 5 columns]"
      ]
     },
     "execution_count": 8,
     "metadata": {},
     "output_type": "execute_result"
    }
   ],
   "source": [
    "# Map states to median housing value\n",
    "state_to_median_value = {\n",
    "    'Alabama': 267100,\n",
    "    'Alaska': 350000,\n",
    "    'Arizona': 435300,\n",
    "    'Arkansas': 246000,\n",
    "    'California': 793600,\n",
    "    'Colorado': 586100,\n",
    "    'Connecticut': 424900,\n",
    "    'Delaware': 375000,\n",
    "    'District of Columbia': 640000,\n",
    "    'Florida': 405000,\n",
    "    'Georgia': 389500,\n",
    "    'Hawaii': 714100,\n",
    "    'Idaho': 539000,\n",
    "    'Illinois': 266800,\n",
    "    'Indiana': 242500,\n",
    "    'Iowa': 289900,\n",
    "    'Kansas': 263700,\n",
    "    'Kentucky': 246700,\n",
    "    'Louisiana': 243300,\n",
    "    'Maine': 370000,\n",
    "    'Maryland': 395000,\n",
    "    'Massachusetts': 595700,\n",
    "    'Michigan': 238800,\n",
    "    'Minnesota': 330500,\n",
    "    'Mississippi': 232800,\n",
    "    'Missouri': 243500,\n",
    "    'Montana': 609900,\n",
    "    'Nebraska': 280400,\n",
    "    'Nevada': 479299,\n",
    "    'New Hampshire': 451400,\n",
    "    'New Jersey': 485900,\n",
    "    'New Mexico': 358600,\n",
    "    'New York': 649000,\n",
    "    'North Carolina': 362200,\n",
    "    'North Dakota': 334075,\n",
    "    'Ohio': 228000,\n",
    "    'Oklahoma': 233900,\n",
    "    'Oregon': 490200,\n",
    "    'Pennsylvania': 268100,\n",
    "    'Rhode Island': 455500,\n",
    "    'South Carolina': 360800,\n",
    "    'South Dakota': 300200,\n",
    "    'Tennessee': 418900,\n",
    "    'Texas': 336400,\n",
    "    'Utah': 548900,\n",
    "    'Vermont': 395800,\n",
    "    'Virginia': 415600,\n",
    "    'Washington': 605400,\n",
    "    'West Virginia': 284000,\n",
    "    'Wisconsin': 329000,\n",
    "    'Wyoming': 317000,\n",
    "    'Puerto Rico' : 388527,\n",
    "    'Virgin Islands' : 300218,\n",
    "}\n",
    "\n",
    "\n",
    "# DON'T DO ONE-HOT ENCODING, instead replace state values with median housing values in said state.\n",
    "# Add column called median value\n",
    "X['median_value'] = X['state'].map(state_to_median_value)\n",
    "\n",
    "X.drop('state', axis=1, inplace=True)\n",
    "\n",
    "X"
   ]
  },
  {
   "cell_type": "code",
   "execution_count": 9,
   "metadata": {},
   "outputs": [
    {
     "data": {
      "text/plain": [
       "'\\nscaler = StandardScaler()\\n\\nX_scaled = scaler.fit_transform(X)\\n\\nwith open(\"medianScalar.pkl\", \"wb\") as f:\\n    scaler = pickle.dump(scaler, f)\\n'"
      ]
     },
     "execution_count": 9,
     "metadata": {},
     "output_type": "execute_result"
    }
   ],
   "source": [
    "# Drop the original 'state' column\n",
    "\"\"\"\n",
    "scaler = StandardScaler()\n",
    "\n",
    "X_scaled = scaler.fit_transform(X)\n",
    "\n",
    "with open(\"medianScalar.pkl\", \"wb\") as f:\n",
    "    scaler = pickle.dump(scaler, f)\n",
    "\"\"\""
   ]
  },
  {
   "cell_type": "code",
   "execution_count": 10,
   "metadata": {},
   "outputs": [],
   "source": [
    "X_train, X_test, y_train, y_test = train_test_split(X, y, test_size=0.2, random_state=42)"
   ]
  },
  {
   "cell_type": "markdown",
   "metadata": {},
   "source": [
    "# Training KNN model and finding optimal parameters (COMPLETE)"
   ]
  },
  {
   "cell_type": "code",
   "execution_count": 11,
   "metadata": {},
   "outputs": [],
   "source": [
    "# Create list for the results\n",
    "valScores = []\n",
    "models = []\n",
    "testScores = []"
   ]
  },
  {
   "cell_type": "code",
   "execution_count": 12,
   "metadata": {},
   "outputs": [
    {
     "name": "stdout",
     "output_type": "stream",
     "text": [
      "1\n",
      "2\n",
      "3\n",
      "4\n"
     ]
    }
   ],
   "source": [
    "# Perform CV on models\n",
    "for k in range(1, 5):\n",
    "    # Create and train model\n",
    "    knnModel = KNeighborsRegressor(n_neighbors=k)\n",
    "    knnModel.fit(X_train, y_train)\n",
    "    \n",
    "    # Predict on testing set\n",
    "    y_pred = knnModel.predict(X_test)\n",
    "    \n",
    "    # Find MSE of testing set\n",
    "    mse = mean_squared_error(y_test, y_pred)\n",
    "    \n",
    "    # Run 5 fold CV\n",
    "    scores = cross_val_score(knnModel, X_train, y_train, cv=5)\n",
    "\n",
    "    # Store scores, models, and test scores\n",
    "    valScores.append(np.mean(scores))\n",
    "    models.append(knnModel)\n",
    "    testScores.append(mse)\n",
    "    print(k)"
   ]
  },
  {
   "cell_type": "code",
   "execution_count": 13,
   "metadata": {},
   "outputs": [
    {
     "data": {
      "image/png": "[encoded data removed]",
      "text/plain": [
       "<Figure size 640x480 with 1 Axes>"
      ]
     },
     "metadata": {},
     "output_type": "display_data"
    },
    {
     "data": {
      "image/png": "[encoded data removed]",
      "text/plain": [
       "<Figure size 640x480 with 1 Axes>"
      ]
     },
     "metadata": {},
     "output_type": "display_data"
    }
   ],
   "source": [
    "Ks = range(1, 5)\n",
    "plt.plot(Ks, valScores, color=\"blue\")\n",
    "plt.title(\"Ks vs Validation Scores\")\n",
    "plt.xlabel(\"Number of neightbors\")\n",
    "plt.ylabel(\"Cross Val Score\")\n",
    "plt.show()\n",
    "\n",
    "\n",
    "plt.plot(Ks, testScores, color=\"green\")\n",
    "plt.title(\"Ks vs Test MSEs\")\n",
    "plt.xlabel(\"Number of neightbors\")\n",
    "plt.ylabel(\"Cross Val Score\")\n",
    "plt.show()\n"
   ]
  },
  {
   "cell_type": "markdown",
   "metadata": {},
   "source": [
    "## Optimal K value for KNN model according to various indicators:"
   ]
  },
  {
   "cell_type": "code",
   "execution_count": 14,
   "metadata": {},
   "outputs": [],
   "source": [
    "# k = 1 produces the best model\n",
    "bestK = 1"
   ]
  },
  {
   "cell_type": "markdown",
   "metadata": {},
   "source": [
    "# Saving optimal model in a .pkl file"
   ]
  },
  {
   "cell_type": "code",
   "execution_count": 15,
   "metadata": {},
   "outputs": [],
   "source": [
    "# Find index of model with min test error\n",
    "model_num = np.argmin(testScores)\n",
    "\n",
    "# Store the model that gives the best outcomes\n",
    "with open(\"medianKNN.pkl\", \"wb\") as f:\n",
    "    pickle.dump(models[model_num], f)"
   ]
  },
  {
   "cell_type": "markdown",
   "metadata": {},
   "source": [
    "# Training linear and polynomial models to find optimal degree of graph"
   ]
  },
  {
   "cell_type": "code",
   "execution_count": 16,
   "metadata": {},
   "outputs": [
    {
     "name": "stdout",
     "output_type": "stream",
     "text": [
      "1\n",
      "1\n",
      "2\n",
      "2\n",
      "3\n",
      "3\n",
      "4\n",
      "4\n"
     ]
    }
   ],
   "source": [
    "polyValScores = []\n",
    "polyModels = []\n",
    "polyTestMSE = []\n",
    "\n",
    "for degree in range(1, 5):\n",
    "    print(degree)\n",
    "    # Initailize linReg and polyFeatures object\n",
    "    polyFeatures = PolynomialFeatures(degree=degree)\n",
    "    linReg = LinearRegression()\n",
    "    \n",
    "    # Create a pipeline\n",
    "    pipeline = make_pipeline(polyFeatures, linReg)\n",
    "    \n",
    "    # Run cross validation on model\n",
    "    cvScores = cross_val_score(pipeline, X_train, y_train)\n",
    "    \n",
    "    # Predict y values\n",
    "    pipeline.fit(X_train, y_train)\n",
    "    \n",
    "    y_pred = pipeline.predict(X_test)\n",
    "    \n",
    "    polyModels.append(pipeline)\n",
    "    polyValScores.append(np.mean(cvScores))\n",
    "    polyTestMSE.append(mean_squared_error(y_test, y_pred))\n",
    "    print(degree)"
   ]
  },
  {
   "cell_type": "markdown",
   "metadata": {},
   "source": [
    "# Plot the Validation + Test Scores for Analysis"
   ]
  },
  {
   "cell_type": "code",
   "execution_count": 17,
   "metadata": {},
   "outputs": [
    {
     "data": {
      "image/png": "[encoded data removed]",
      "text/plain": [
       "<Figure size 640x480 with 1 Axes>"
      ]
     },
     "metadata": {},
     "output_type": "display_data"
    },
    {
     "data": {
      "image/png": "[encoded data removed]",
      "text/plain": [
       "<Figure size 640x480 with 1 Axes>"
      ]
     },
     "metadata": {},
     "output_type": "display_data"
    }
   ],
   "source": [
    "degrees = range(1, 5)\n",
    "\n",
    "plt.plot(degrees, polyValScores, color=\"blue\")\n",
    "plt.title(\"Degree CV performance vs Validation Scores\")\n",
    "plt.xlabel(\"Degrees\")\n",
    "plt.ylabel(\"Cross Val Score\")\n",
    "plt.show()\n",
    "\n",
    "plt.plot(degrees, polyTestMSE, color=\"orange\")\n",
    "plt.title(\"Degree test performance vs MSE Scores\")\n",
    "plt.xlabel(\"Cross Val Score\")\n",
    "plt.ylabel(\"Test MSE Score\")\n",
    "plt.show()"
   ]
  },
  {
   "cell_type": "markdown",
   "metadata": {},
   "source": [
    "# Store the model into a pkl file for long term storage"
   ]
  },
  {
   "cell_type": "code",
   "execution_count": 18,
   "metadata": {},
   "outputs": [
    {
     "name": "stdout",
     "output_type": "stream",
     "text": [
      "3\n"
     ]
    }
   ],
   "source": [
    "# Find index of model with min test error\n",
    "model_num = np.argmin(polyTestMSE)\n",
    "\n",
    "# Store the model that gives the best outcomes\n",
    "with open(\"medianPoly.pkl\", \"wb\") as f:\n",
    "    print(model_num)\n",
    "    pickle.dump(polyModels[model_num], f)"
   ]
  },
  {
   "cell_type": "markdown",
   "metadata": {},
   "source": [
    "# Compare the two models in terms of errors"
   ]
  },
  {
   "cell_type": "code",
   "execution_count": 19,
   "metadata": {},
   "outputs": [
    {
     "name": "stdout",
     "output_type": "stream",
     "text": [
      "1440858614112.1018\n",
      "62045616876.04049\n",
      "KNN is the best\n"
     ]
    }
   ],
   "source": [
    "polyMin = min(polyTestMSE)\n",
    "knnMin = min(testScores)\n",
    "\n",
    "print(polyMin)\n",
    "print(knnMin)\n",
    "if knnMin < polyMin:\n",
    "    print(\"KNN is the best\")\n",
    "else:\n",
    "    print(\"Poly is the best\")"
   ]
  }
 ],
 "metadata": {
  "kernelspec": {
   "display_name": "Python 3",
   "language": "python",
   "name": "python3"
  },
  "language_info": {
   "codemirror_mode": {
    "name": "ipython",
    "version": 3
   },
   "file_extension": ".py",
   "mimetype": "text/x-python",
   "name": "python",
   "nbconvert_exporter": "python",
   "pygments_lexer": "ipython3",
   "version": "3.11.7"
  }
 },
 "nbformat": 4,
 "nbformat_minor": 2
}
